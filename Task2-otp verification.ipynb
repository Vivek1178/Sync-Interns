{
 "cells": [
  {
   "cell_type": "markdown",
   "id": "14e79198",
   "metadata": {},
   "source": [
    "# OTP VERIFICATION WITH PYTHON"
   ]
  },
  {
   "cell_type": "markdown",
   "id": "9f690f2f",
   "metadata": {},
   "source": [
    "OTP Verification is the process of verifying a user by sending a unique password so that \n",
    "the user can be verified before completing a registration or payment process. Most of the\n",
    "time, we get an OTP when we make an online payment, or when we forget our password, or when \n",
    "creating an account on any online platform. Thus, the sole purpose of an OTP is to verify the\n",
    "identity of a user by sending a unique password. \n",
    "We can easily create an application for the task of OTP verification using Python by\n",
    "following the steps mentioned below: \n",
    "1.First, create a 6-digit random number. \n",
    "2.Then store the number in a variable \n",
    "3.Then we need to write a program to send emails.\n",
    "4. When sending email, we need to use OTP as a message.\n",
    "5. Finally, we need to request two user inputs; first for the user’s email and then for the OTP that the user has received. \n",
    "So this is the complete process of creating an OTP verification application using Python.\n"
   ]
  },
  {
   "cell_type": "code",
   "execution_count": 9,
   "id": "3ad67538",
   "metadata": {},
   "outputs": [
    {
     "name": "stdout",
     "output_type": "stream",
     "text": [
      "Enter your email address: vivek_mundhe@moderncoe.edu.in\n",
      "Enter your email address: vivek_mundhe@moderncoe.edu.in\n",
      "Enter your email password: ········\n",
      "OTP sent successfully to your email address.\n",
      "Enter the OTP sent to your email: 651900\n",
      "OTP verification successful.\n"
     ]
    }
   ],
   "source": [
    "import random\n",
    "import smtplib\n",
    "import getpass\n",
    "otp = random.randint(100000, 999999)\n",
    "to_email = input(\"Enter your email address: \")\n",
    "server = smtplib.SMTP('smtp.gmail.com', 587)\n",
    "server.starttls()\n",
    "username = input(\"Enter your email address: \")\n",
    "password = getpass.getpass(\"Enter your email password: \")\n",
    "server.login(username, password)\n",
    "message = 'Your OTP is ' + str(otp)\n",
    "server.sendmail(username, to_email, message)\n",
    "print(\"OTP sent successfully to your email address.\")\n",
    "user_otp = input(\"Enter the OTP sent to your email: \")\n",
    "if user_otp == str(otp):\n",
    "    print(\"OTP verification successful.\")\n",
    "else:\n",
    "    print(\"OTP verification failed.\")"
   ]
  },
  {
   "cell_type": "code",
   "execution_count": null,
   "id": "4b30b35f",
   "metadata": {},
   "outputs": [],
   "source": []
  }
 ],
 "metadata": {
  "kernelspec": {
   "display_name": "Python 3 (ipykernel)",
   "language": "python",
   "name": "python3"
  },
  "language_info": {
   "codemirror_mode": {
    "name": "ipython",
    "version": 3
   },
   "file_extension": ".py",
   "mimetype": "text/x-python",
   "name": "python",
   "nbconvert_exporter": "python",
   "pygments_lexer": "ipython3",
   "version": "3.9.7"
  }
 },
 "nbformat": 4,
 "nbformat_minor": 5
}
