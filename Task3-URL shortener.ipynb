{
 "cells": [
  {
   "cell_type": "markdown",
   "id": "004c414e",
   "metadata": {},
   "source": [
    "# URL SHORTNER WITH PYTHON"
   ]
  },
  {
   "cell_type": "markdown",
   "id": "56494b4e",
   "metadata": {},
   "source": [
    "You must have used various online URL shortening services and they all are doing a great job as well! Even Google forms also use shorten URLs for ease of use. So it’s a widely used service on the Internet.\n",
    "Have you ever thought about or tried to shorten the length of the URL? Hopefully, there are plenty of libraries and APIs available in the Python programming language to help us do the same using programming \n"
   ]
  },
  {
   "cell_type": "code",
   "execution_count": 2,
   "id": "27493e65",
   "metadata": {
    "scrolled": false
   },
   "outputs": [
    {
     "name": "stdout",
     "output_type": "stream",
     "text": [
      "Requirement already satisfied: pyshorteners in c:\\users\\vivek\\anaconda3\\lib\\site-packages (1.0.1)\n",
      "Requirement already satisfied: requests in c:\\users\\vivek\\anaconda3\\lib\\site-packages (from pyshorteners) (2.26.0)\n",
      "Requirement already satisfied: urllib3<1.27,>=1.21.1 in c:\\users\\vivek\\anaconda3\\lib\\site-packages (from requests->pyshorteners) (1.26.7)\n",
      "Requirement already satisfied: charset-normalizer~=2.0.0 in c:\\users\\vivek\\anaconda3\\lib\\site-packages (from requests->pyshorteners) (2.0.4)\n",
      "Requirement already satisfied: certifi>=2017.4.17 in c:\\users\\vivek\\anaconda3\\lib\\site-packages (from requests->pyshorteners) (2021.10.8)\n",
      "Requirement already satisfied: idna<4,>=2.5 in c:\\users\\vivek\\anaconda3\\lib\\site-packages (from requests->pyshorteners) (3.2)\n",
      "Note: you may need to restart the kernel to use updated packages.\n"
     ]
    }
   ],
   "source": [
    "pip install pyshorteners"
   ]
  },
  {
   "cell_type": "code",
   "execution_count": 3,
   "id": "f82d8912",
   "metadata": {},
   "outputs": [
    {
     "name": "stdout",
     "output_type": "stream",
     "text": [
      "https://tinyurl.com/bjnwp7u\n"
     ]
    }
   ],
   "source": [
    "import pyshorteners\n",
    "s = pyshorteners.Shortener()\n",
    "short_url = s.tinyurl.short('https://www.google.com')\n",
    "print(short_url)"
   ]
  },
  {
   "cell_type": "code",
   "execution_count": null,
   "id": "183a02e3",
   "metadata": {},
   "outputs": [],
   "source": []
  }
 ],
 "metadata": {
  "kernelspec": {
   "display_name": "Python 3 (ipykernel)",
   "language": "python",
   "name": "python3"
  },
  "language_info": {
   "codemirror_mode": {
    "name": "ipython",
    "version": 3
   },
   "file_extension": ".py",
   "mimetype": "text/x-python",
   "name": "python",
   "nbconvert_exporter": "python",
   "pygments_lexer": "ipython3",
   "version": "3.9.7"
  }
 },
 "nbformat": 4,
 "nbformat_minor": 5
}
