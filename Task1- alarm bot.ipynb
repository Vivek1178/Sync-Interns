{
 "cells": [
  {
   "cell_type": "markdown",
   "id": "688c2c17",
   "metadata": {},
   "source": [
    "# ALARM BOT"
   ]
  },
  {
   "cell_type": "markdown",
   "id": "13ceb021",
   "metadata": {},
   "source": [
    "The objective of our project is to implement an alarm clock using Python. \n",
    "Python consists of some very innovative libraries such as datetime and \n",
    "tkinter which help us to build the project using the current date and time \n",
    "as well as to provide a user interface to set the alarm according to the \n",
    "requirement in 24-hour format."
   ]
  },
  {
   "cell_type": "code",
   "execution_count": 6,
   "id": "d3f3ad38",
   "metadata": {},
   "outputs": [],
   "source": [
    "from tkinter import *\n",
    "import datetime\n",
    "import time"
   ]
  },
  {
   "cell_type": "code",
   "execution_count": 29,
   "id": "20d55ff6",
   "metadata": {},
   "outputs": [
    {
     "name": "stdout",
     "output_type": "stream",
     "text": [
      "20:52:54 12:16:00\n",
      "20:52:55 12:16:00\n",
      "20:52:55 12:16:00\n",
      "20:52:56 12:16:00\n",
      "20:52:56 12:16:00\n",
      "20:52:56 12:16:00\n",
      "20:52:57 12:16:00\n",
      "20:52:57 12:16:00\n",
      "20:52:57 12:16:00\n",
      "20:52:58 12:16:00\n",
      "20:52:58 12:16:00\n"
     ]
    },
    {
     "name": "stderr",
     "output_type": "stream",
     "text": [
      "Exception in thread Thread-14:\n",
      "Traceback (most recent call last):\n",
      "  File \"C:\\Users\\VIVEK\\anaconda3\\lib\\threading.py\", line 973, in _bootstrap_inner\n",
      "    self.run()\n",
      "  File \"C:\\Users\\VIVEK\\anaconda3\\lib\\threading.py\", line 910, in run\n",
      "    self._target(*self._args, **self._kwargs)\n",
      "  File \"C:\\Users\\VIVEK\\AppData\\Local\\Temp/ipykernel_172/2304395060.py\", line 26, in alarm\n",
      "  File \"C:\\Users\\VIVEK\\anaconda3\\lib\\tkinter\\__init__.py\", line 519, in get\n",
      "    value = self._tk.globalgetvar(self._name)\n",
      "RuntimeError: main thread is not in main loop\n",
      "Exception in thread Thread-13:\n",
      "Traceback (most recent call last):\n",
      "  File \"C:\\Users\\VIVEK\\anaconda3\\lib\\threading.py\", line 973, in _bootstrap_inner\n",
      "    self.run()\n",
      "  File \"C:\\Users\\VIVEK\\anaconda3\\lib\\threading.py\", line 910, in run\n",
      "    self._target(*self._args, **self._kwargs)\n",
      "  File \"C:\\Users\\VIVEK\\AppData\\Local\\Temp/ipykernel_172/2304395060.py\", line 26, in alarm\n",
      "  File \"C:\\Users\\VIVEK\\anaconda3\\lib\\tkinter\\__init__.py\", line 519, in get\n",
      "    value = self._tk.globalgetvar(self._name)\n",
      "RuntimeError: main thread is not in main loop\n"
     ]
    }
   ],
   "source": [
    "from tkinter import *\n",
    "import datetime\n",
    "import time\n",
    "import winsound\n",
    "from threading import *\n",
    "\n",
    "# Create Object\n",
    "root= Tk()\n",
    "\n",
    "# Set geometry\n",
    "root.title(\"ALARM CLOCK\")\n",
    "root['bg']='aquamarine'\n",
    "root.geometry(\"400x200\")\n",
    "\n",
    "\n",
    "# Use Threading\n",
    "def Threading():\n",
    "    t1 = Thread(target=alarm)\n",
    "    t1.start()\n",
    "\n",
    "\n",
    "def alarm():\n",
    "    # Infinite Loop\n",
    "    while True:\n",
    "        # Set Alarm\n",
    "        set_alarm_time = f\"{hour.get()}:{minute.get()}:{second.get()}\"\n",
    "\n",
    "        # Wait for one seconds\n",
    "        time.sleep(1)\n",
    "\n",
    "        # Get current time\n",
    "        current_time = datetime.datetime.now().strftime(\"%H:%M:%S\")\n",
    "        print(current_time, set_alarm_time)\n",
    "\n",
    "        # Check whether set alarm is equal to current time or not\n",
    "        if current_time == set_alarm_time:\n",
    "            print(\"Time to Wake up\")\n",
    "            # Playing sound\n",
    "            winsound.PlaySound(\"sound.wav\", winsound.SND_ASYNC)\n",
    "            break\n",
    "\n",
    "# Add Labels, Frame, Button, Optionmenus\n",
    "Label(root, text=\"Alarm Clock\", font=(\"Algerian 25 bold\"), fg=\"purple\").pack(pady=10)\n",
    "Label(root, text=\"Set Time\", font=(\"Arial 20 bold\"), fg=\"crimson\", bg =\"lavender\").pack()\n",
    "Bg=\"lavender\"\n",
    "frame = Frame(root)\n",
    "frame.pack()\n",
    "\n",
    "hour = StringVar(root)\n",
    "hours = ('00', '01', '02', '03', '04', '05', '06', '07',\n",
    "         '08', '09', '10', '11', '12', '13', '14', '15',\n",
    "         '16', '17', '18', '19', '20', '21', '22', '23', '24'\n",
    "         )\n",
    "hour.set(hours[0])\n",
    "\n",
    "hrs = OptionMenu(frame, hour, *hours)\n",
    "hrs.pack(side=LEFT)\n",
    "\n",
    "minute = StringVar(root)\n",
    "minutes = ('00', '01', '02', '03', '04', '05', '06', '07',\n",
    "           '08', '09', '10', '11', '12', '13', '14', '15',\n",
    "           '16', '17', '18', '19', '20', '21', '22', '23',\n",
    "           '24', '25', '26', '27', '28', '29', '30', '31',\n",
    "           '32', '33', '34', '35', '36', '37', '38', '39',\n",
    "           '40', '41', '42', '43', '44', '45', '46', '47',\n",
    "           '48', '49', '50', '51', '52', '53', '54', '55',\n",
    "           '56', '57', '58', '59', '60')\n",
    "minute.set(minutes[0])\n",
    "\n",
    "mins = OptionMenu(frame, minute, *minutes)\n",
    "mins.pack(side=LEFT)\n",
    "\n",
    "second = StringVar(root)\n",
    "seconds = ('00', '01', '02', '03', '04', '05', '06', '07',\n",
    "           '08', '09', '10', '11', '12', '13', '14', '15',\n",
    "           '16', '17', '18', '19', '20', '21', '22', '23',\n",
    "           '24', '25', '26', '27', '28', '29', '30', '31',\n",
    "           '32', '33', '34', '35', '36', '37', '38', '39',\n",
    "           '40', '41', '42', '43', '44', '45', '46', '47',\n",
    "           '48', '49', '50', '51', '52', '53', '54', '55',\n",
    "           '56', '57', '58', '59', '60')\n",
    "second.set(seconds[0])\n",
    "\n",
    "secs = OptionMenu(frame, second, *seconds)\n",
    "secs.pack(side=LEFT)\n",
    "\n",
    "Button(root, text=\"Set Alarm\", font=(\"Helvetica 15\"), fg=\"black\", bg=\"pink\", command=Threading).pack(pady=20)\n",
    "\n",
    "# Execute Tkinter\n",
    "root.mainloop()"
   ]
  },
  {
   "cell_type": "code",
   "execution_count": null,
   "id": "83cdc95e",
   "metadata": {},
   "outputs": [],
   "source": []
  },
  {
   "cell_type": "code",
   "execution_count": null,
   "id": "8386173f",
   "metadata": {},
   "outputs": [],
   "source": []
  }
 ],
 "metadata": {
  "kernelspec": {
   "display_name": "Python 3 (ipykernel)",
   "language": "python",
   "name": "python3"
  },
  "language_info": {
   "codemirror_mode": {
    "name": "ipython",
    "version": 3
   },
   "file_extension": ".py",
   "mimetype": "text/x-python",
   "name": "python",
   "nbconvert_exporter": "python",
   "pygments_lexer": "ipython3",
   "version": "3.9.7"
  }
 },
 "nbformat": 4,
 "nbformat_minor": 5
}
